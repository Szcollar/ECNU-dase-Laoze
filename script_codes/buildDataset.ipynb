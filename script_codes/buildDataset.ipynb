{
 "cells": [
  {
   "cell_type": "code",
   "execution_count": 1,
   "id": "0d704d1d",
   "metadata": {},
   "outputs": [],
   "source": [
    "import os"
   ]
  },
  {
   "cell_type": "code",
   "execution_count": 2,
   "id": "1d97751f",
   "metadata": {},
   "outputs": [],
   "source": [
    "def read_vocab(vocab_file):\n",
    "    \"\"\"读取词典。\"\"\"\n",
    "    with open(vocab_file, \"r\", encoding=\"utf-8\") as f:\n",
    "        gen = (line.strip().split('\\t') for line in f.readlines())\n",
    "\n",
    "    vocab2id, id2vocab = dict(), dict()\n",
    "    index = 0\n",
    "    for row in gen:\n",
    "        vocab2id[row[1]] = int(row[0]) + 1\n",
    "        id2vocab[int(row[0]) + 1] = row[1]\n",
    "        index += 1\n",
    "        if index == 6000:\n",
    "            break\n",
    "\n",
    "    return vocab2id, id2vocab"
   ]
  },
  {
   "cell_type": "code",
   "execution_count": 3,
   "id": "d71030bc",
   "metadata": {},
   "outputs": [],
   "source": [
    "def read_one_file(path,vocab2id,contents,labels):\n",
    "    content, label = list(), list()\n",
    "    with open(path,'r',encoding = 'utf-8') as txtFile:\n",
    "        try:\n",
    "            header = next(txtFile)\n",
    "        except:\n",
    "            return\n",
    "        for row in txtFile.readlines():\n",
    "            if row.find('\\t') != -1:\n",
    "                word,tag = row.strip().split('\\t')\n",
    "                content.append(vocab2id.get(word,0))\n",
    "                label.append(tag)\n",
    "            else:\n",
    "                contents.append(content)\n",
    "                labels.append(label)\n",
    "                content,label = list(),list()\n",
    "        if len(content)>0:\n",
    "            contents.append(content)\n",
    "            labels.append(label)"
   ]
  },
  {
   "cell_type": "code",
   "execution_count": 4,
   "id": "9e4c55ff",
   "metadata": {},
   "outputs": [],
   "source": [
    "def build_toke(dirname,vocab2id,contents,labels):\n",
    "    if os.path.isfile(dirname):\n",
    "        read_one_file(dirname, vocab2id, contents, labels)\n",
    "        return\n",
    "    dirList = os.listdir(dirname)\n",
    "    for dir in dirList:\n",
    "        filePath = os.path.join(dirname,dir)\n",
    "        build_toke(filePath,vocab2id,contents,labels)"
   ]
  },
  {
   "cell_type": "code",
   "execution_count": 6,
   "id": "d76b89b3",
   "metadata": {},
   "outputs": [],
   "source": [
    "vocab2id, id2vocab = read_vocab('./data/puncData/vocab.txt')\n",
    "contents,labels = list(),list()"
   ]
  },
  {
   "cell_type": "code",
   "execution_count": 7,
   "id": "0c28a8a7",
   "metadata": {},
   "outputs": [],
   "source": [
    "build_toke('./data/puncData/inCoreBooks',vocab2id,contents,labels)"
   ]
  },
  {
   "cell_type": "code",
   "execution_count": 8,
   "id": "42171ace",
   "metadata": {},
   "outputs": [],
   "source": [
    "build_toke('./data/puncData/coreBooks',vocab2id,contents,labels)"
   ]
  },
  {
   "cell_type": "code",
   "execution_count": 9,
   "id": "b6c8707a",
   "metadata": {},
   "outputs": [],
   "source": [
    "import json"
   ]
  },
  {
   "cell_type": "code",
   "execution_count": 10,
   "id": "0f2b8313",
   "metadata": {},
   "outputs": [],
   "source": [
    "with open('./data/puncData/vocab2id.json','w',encoding='utf-8') as jsonFile:\n",
    "        json.dump(vocab2id,jsonFile,indent=4,ensure_ascii=False)"
   ]
  },
  {
   "cell_type": "code",
   "execution_count": 11,
   "id": "3d2c80a8",
   "metadata": {},
   "outputs": [],
   "source": [
    "with open('./data/puncData/id2vocab.json','w',encoding='utf-8') as jsonFile:\n",
    "        json.dump(id2vocab,jsonFile,indent=4,ensure_ascii=False)"
   ]
  },
  {
   "cell_type": "code",
   "execution_count": 12,
   "id": "a8de6925",
   "metadata": {},
   "outputs": [],
   "source": [
    "with open('./data/puncData/contents.json','w',encoding='utf-8') as jsonFile:\n",
    "        json.dump(contents,jsonFile,indent=4,ensure_ascii=False)"
   ]
  },
  {
   "cell_type": "code",
   "execution_count": 13,
   "id": "824d1f3b",
   "metadata": {},
   "outputs": [],
   "source": [
    "with open('./data/puncData/labels.json','w',encoding='utf-8') as jsonFile:\n",
    "        json.dump(labels,jsonFile,indent=4,ensure_ascii=False)"
   ]
  },
  {
   "cell_type": "code",
   "execution_count": null,
   "id": "d55ba333",
   "metadata": {},
   "outputs": [],
   "source": []
  }
 ],
 "metadata": {
  "kernelspec": {
   "display_name": "Python [conda env:script] *",
   "language": "python",
   "name": "conda-env-script-py"
  },
  "language_info": {
   "codemirror_mode": {
    "name": "ipython",
    "version": 3
   },
   "file_extension": ".py",
   "mimetype": "text/x-python",
   "name": "python",
   "nbconvert_exporter": "python",
   "pygments_lexer": "ipython3",
   "version": "3.6.12"
  }
 },
 "nbformat": 4,
 "nbformat_minor": 5
}
