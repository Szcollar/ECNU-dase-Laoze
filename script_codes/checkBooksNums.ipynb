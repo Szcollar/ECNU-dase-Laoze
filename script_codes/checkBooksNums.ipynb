{
 "cells": [
  {
   "cell_type": "code",
   "execution_count": 1,
   "metadata": {},
   "outputs": [],
   "source": [
    "import os"
   ]
  },
  {
   "cell_type": "code",
   "execution_count": 7,
   "metadata": {},
   "outputs": [],
   "source": [
    "inCoreOrigionPath = './data/ancient_chinese_books/首页'\n",
    "inCorePath = './data/ancient_chinese_books/afterClear'"
   ]
  },
  {
   "cell_type": "code",
   "execution_count": 4,
   "metadata": {},
   "outputs": [],
   "source": [
    "coreOrigionPath = './data/books'\n",
    "corePath = './data/afterClearCoreBooks'"
   ]
  },
  {
   "cell_type": "code",
   "execution_count": 44,
   "metadata": {},
   "outputs": [],
   "source": [
    "def getNums(path,fatherPath,bookList):\n",
    "    if not os.path.isdir(path):\n",
    "        bookList.append(path.replace('\\\\','/').replace('books','afterClearCoreBooks'))\n",
    "        return 1\n",
    "    sum =0\n",
    "    sections = os.listdir(path)\n",
    "    for section in sections:\n",
    "        if section == '译文.txt':\n",
    "            continue\n",
    "        sum += getNums(os.path.join(path,section),path,bookList)\n",
    "    return sum"
   ]
  },
  {
   "cell_type": "code",
   "execution_count": 31,
   "metadata": {},
   "outputs": [],
   "source": [
    "inCoreOrigionList = []\n",
    "inCoreList = []"
   ]
  },
  {
   "cell_type": "code",
   "execution_count": 32,
   "metadata": {},
   "outputs": [
    {
     "data": {
      "text/plain": [
       "15682"
      ]
     },
     "execution_count": 32,
     "metadata": {},
     "output_type": "execute_result"
    }
   ],
   "source": [
    "getNums(inCoreOrigionPath,'./data/ancient_chinese_books',inCoreOrigionList)\n",
    "getNums(inCorePath,'./data/ancient_chinese_books',inCoreList)"
   ]
  },
  {
   "cell_type": "code",
   "execution_count": 33,
   "metadata": {},
   "outputs": [
    {
     "name": "stdout",
     "output_type": "stream",
     "text": [
      "15694\n",
      "15682\n"
     ]
    }
   ],
   "source": [
    "print(len(inCoreOrigionList))\n",
    "print(len(inCoreList))"
   ]
  },
  {
   "cell_type": "code",
   "execution_count": 34,
   "metadata": {},
   "outputs": [],
   "source": [
    "inCoreOrigionSet = set(inCoreOrigionList)\n",
    "inCoreSet = set(inCoreList)"
   ]
  },
  {
   "cell_type": "code",
   "execution_count": 35,
   "metadata": {},
   "outputs": [
    {
     "name": "stdout",
     "output_type": "stream",
     "text": [
      "15694\n",
      "15682\n"
     ]
    }
   ],
   "source": [
    "print(len(inCoreOrigionSet))\n",
    "print(len(inCoreSet))"
   ]
  },
  {
   "cell_type": "code",
   "execution_count": 58,
   "metadata": {},
   "outputs": [],
   "source": [
    "bookIndexPath = './data/bookIndex'"
   ]
  },
  {
   "cell_type": "code",
   "execution_count": 60,
   "metadata": {},
   "outputs": [],
   "source": [
    "for one in inCoreOrigionSet:\n",
    "    if one not in inCoreSet:\n",
    "        with open(os.path.join(bookIndexPath,'InCoreWithout.txt'),'a',encoding = 'utf-8') as txtFile:\n",
    "            txtFile.write(one+'\\n')"
   ]
  },
  {
   "cell_type": "code",
   "execution_count": 50,
   "metadata": {},
   "outputs": [],
   "source": [
    "coreOrigionList = []\n",
    "coreList = []"
   ]
  },
  {
   "cell_type": "code",
   "execution_count": 51,
   "metadata": {},
   "outputs": [
    {
     "data": {
      "text/plain": [
       "22552"
      ]
     },
     "execution_count": 51,
     "metadata": {},
     "output_type": "execute_result"
    }
   ],
   "source": [
    "getNums(coreOrigionPath,'./data',coreOrigionList)\n",
    "getNums(corePath,'./data',coreList)"
   ]
  },
  {
   "cell_type": "code",
   "execution_count": 52,
   "metadata": {},
   "outputs": [
    {
     "name": "stdout",
     "output_type": "stream",
     "text": [
      "23158\n",
      "22552\n"
     ]
    }
   ],
   "source": [
    "print(len(coreOrigionList))\n",
    "print(len(coreList))"
   ]
  },
  {
   "cell_type": "code",
   "execution_count": 53,
   "metadata": {},
   "outputs": [],
   "source": [
    "coreOrigionSet = set(coreOrigionList)\n",
    "coreSet = set(coreList)"
   ]
  },
  {
   "cell_type": "code",
   "execution_count": 54,
   "metadata": {},
   "outputs": [
    {
     "name": "stdout",
     "output_type": "stream",
     "text": [
      "23158\n",
      "22552\n"
     ]
    }
   ],
   "source": [
    "print(len(coreOrigionSet))\n",
    "print(len(coreSet))"
   ]
  },
  {
   "cell_type": "code",
   "execution_count": 61,
   "metadata": {},
   "outputs": [
    {
     "name": "stdout",
     "output_type": "stream",
     "text": [
      "606\n"
     ]
    }
   ],
   "source": [
    "index = 0\n",
    "for one in coreOrigionSet:\n",
    "    if one not in coreSet:\n",
    "        index += 1\n",
    "        with open(os.path.join(bookIndexPath,'coreWithout.txt'),'a',encoding = 'utf-8') as txtFile:\n",
    "            txtFile.write(one+'\\n')\n",
    "print(index)"
   ]
  },
  {
   "cell_type": "code",
   "execution_count": null,
   "metadata": {},
   "outputs": [],
   "source": []
  }
 ],
 "metadata": {
  "kernelspec": {
   "display_name": "Python 3",
   "language": "python",
   "name": "python3"
  },
  "language_info": {
   "codemirror_mode": {
    "name": "ipython",
    "version": 3
   },
   "file_extension": ".py",
   "mimetype": "text/x-python",
   "name": "python",
   "nbconvert_exporter": "python",
   "pygments_lexer": "ipython3",
   "version": "3.8.5"
  }
 },
 "nbformat": 4,
 "nbformat_minor": 4
}
